{
 "cells": [
  {
   "cell_type": "markdown",
   "metadata": {},
   "source": [
    "## Forecast Weather API\n",
    "\n",
    "*World Weather Online* (https://www.worldweatheronline.com/developer/) allows you to register for a free trial and access historical forecast data for countries across the globe. The naming convention used by *World Weather Online* is not so straightforward, so I included my code below, which accesses data files for African countries. The correct inputs for a subset of African countries are listed below.  \n",
    "\n",
    "Using this method, the data is downloaded in csv format with one file per country and time interval. The time interval is specified by the variable *frequency*, which is defined in hours. The average value over that time period for the country is then calculated. Daily historical forecasts (input *24*) is the maximum time interval allowed for this query type. The files include the following headings: date_time, maxtempC, mintempC, totalSnow_cm, sunHour, uvIndex, uvIndex, moon_illumination, moonrise, moonset, sunrise, sunset, DewPointC, FeelsLikeC, HeatIndexC, WindChillC, WindGustKmph, cloudcover, humidity, precipMM, pressure, tempC, visibility, winddirDegree, windspeedKmph. \n",
    "\n",
    "First, you will need an API key. You can register for a free trial, which allows you 500 requests per key per day. The trail period lasts for 60 days. You don't need to provide credit card information but you do need to email them before the trial ends to cancel your subscription. \n",
    "\n",
    "My introduction to accessing forecast data through *World Weather Online* came from Ekapope Viriyakovithya's blog post on the topic (https://www.freecodecamp.org/news/obtain-historical-weather-forecast-data-in-csv-format-using-python/). More information about the API Package can be found here: https://www.freecodecamp.org/news/obtain-historical-weather-forecast-data-in-csv-format-using-python/. "
   ]
  },
  {
   "cell_type": "code",
   "execution_count": null,
   "metadata": {},
   "outputs": [],
   "source": [
    "from wwo_hist import retrieve_hist_data\n",
    "import os\n",
    "\n",
    "year = 2009\n",
    "\n",
    "os.chdir('countries/{}'.format(year))\n",
    "\n",
    "frequency = 24 #time interval in number of hours (maximum 24)\n",
    "start_date = '1-JAN-{}'.format(year)  \n",
    "end_date = '31-DEC-{}'.format(year)\n",
    "api_key = '' #add your personal API key here\n",
    "\n",
    "AU_list=['Angola','Botswana','Lesotho','Malawi','Mozambique','Namibia','South_Sudan','Sudan',\n",
    "         'South_Africa','Zambia','Zimbabwe','Comoros','Djibouti','Eritrea','Ethiopia','Kenya',\n",
    "         'Madagascar','Tanzania','Uganda','Burundi','Cameroon','Central_African_Republic',\n",
    "         'Chad','Democratic_Republic_of_Congo','Congo','Equatorial_Guinea','Gabon','Mauritius','Rwanda','Seychelles',\n",
    "         'Somalia','Sao_Tome_and_Principe','Algeria','Egypt','Libya','Morocco','Tunisia',\n",
    "         'Benin','Burkina_Faso','Cape_Verde', \"Cote_d'Ivoire\",'Gambia','Ghana','Guinea',\n",
    "         'Guinea-Bissau','Liberia','Mali','Niger','Nigeria','Senegal','Sierra_Leone','Togo',\n",
    "         'Mauritania']\n",
    "\n",
    "hist_weather_data = retrieve_hist_data(api_key,\n",
    "                                AU_list,\n",
    "                                start_date,\n",
    "                                end_date,\n",
    "                                frequency,\n",
    "                                location_label = False,\n",
    "                                export_csv = True,\n",
    "                                store_df = False)\n"
   ]
  },
  {
   "cell_type": "code",
   "execution_count": null,
   "metadata": {},
   "outputs": [],
   "source": []
  }
 ],
 "metadata": {
  "kernelspec": {
   "display_name": "Python 3",
   "language": "python",
   "name": "python3"
  },
  "language_info": {
   "codemirror_mode": {
    "name": "ipython",
    "version": 3
   },
   "file_extension": ".py",
   "mimetype": "text/x-python",
   "name": "python",
   "nbconvert_exporter": "python",
   "pygments_lexer": "ipython3",
   "version": "3.7.7"
  }
 },
 "nbformat": 4,
 "nbformat_minor": 4
}
